{
 "cells": [
  {
   "cell_type": "code",
   "execution_count": 1,
   "metadata": {},
   "outputs": [
    {
     "name": "stdout",
     "output_type": "stream",
     "text": [
      "Collecting MIDIUtil\n",
      "\u001b[?25l  Downloading https://files.pythonhosted.org/packages/f5/44/fde6772d8bfaea64fcf5eb948124d0a5fdf5f848b14ac22a23ced53e562d/MIDIUtil-1.2.1.tar.gz (1.0MB)\n",
      "\u001b[K     |████████████████████████████████| 1.0MB 5.1MB/s eta 0:00:01\n",
      "\u001b[?25hBuilding wheels for collected packages: MIDIUtil\n",
      "  Building wheel for MIDIUtil (setup.py) ... \u001b[?25ldone\n",
      "\u001b[?25h  Created wheel for MIDIUtil: filename=MIDIUtil-1.2.1-cp37-none-any.whl size=54571 sha256=0dd9b8d853790b626ac210ab1e54a547806fb77b3fee759d65545a425fc39265\n",
      "  Stored in directory: /Users/michaelfelzan/Library/Caches/pip/wheels/70/f1/24/97bde012f64820632e1e5e2935df19dfbcf9e058b0734b57cd\n",
      "Successfully built MIDIUtil\n",
      "Installing collected packages: MIDIUtil\n",
      "Successfully installed MIDIUtil-1.2.1\n",
      "Note: you may need to restart the kernel to use updated packages.\n"
     ]
    }
   ],
   "source": [
    "pip install MIDIUtil"
   ]
  },
  {
   "cell_type": "code",
   "execution_count": 13,
   "metadata": {},
   "outputs": [
    {
     "name": "stdout",
     "output_type": "stream",
     "text": [
      "Collecting py-midi\n",
      "  Downloading https://files.pythonhosted.org/packages/72/9b/42dd830c90d4b1d3d0280148516a396f64d1d98b6d80701c5999ce6124b2/py_midi-2.0.1-py3-none-any.whl\n",
      "Collecting pyserial (from py-midi)\n",
      "\u001b[?25l  Downloading https://files.pythonhosted.org/packages/07/bc/587a445451b253b285629263eb51c2d8e9bcea4fc97826266d186f96f558/pyserial-3.5-py2.py3-none-any.whl (90kB)\n",
      "\u001b[K     |████████████████████████████████| 92kB 5.5MB/s eta 0:00:011\n",
      "\u001b[?25hInstalling collected packages: pyserial, py-midi\n",
      "Successfully installed py-midi-2.0.1 pyserial-3.5\n",
      "Note: you may need to restart the kernel to use updated packages.\n"
     ]
    }
   ],
   "source": [
    "pip install py-midi"
   ]
  },
  {
   "cell_type": "code",
   "execution_count": 14,
   "metadata": {},
   "outputs": [],
   "source": [
    "import midi"
   ]
  },
  {
   "cell_type": "code",
   "execution_count": 2,
   "metadata": {},
   "outputs": [],
   "source": [
    "from midiutil import MIDIFile\n",
    "import random"
   ]
  },
  {
   "cell_type": "code",
   "execution_count": 7,
   "metadata": {},
   "outputs": [
    {
     "data": {
      "text/plain": [
       "94"
      ]
     },
     "execution_count": 7,
     "metadata": {},
     "output_type": "execute_result"
    }
   ],
   "source": [
    "random.randint(21, 120)"
   ]
  },
  {
   "cell_type": "code",
   "execution_count": 14,
   "metadata": {},
   "outputs": [],
   "source": [
    "listofnotes = []\n",
    "\n",
    "iternote = 0\n",
    "\n",
    "for i in range(100):\n",
    "    iternote = random.randint(21, 120)\n",
    "    listofnotes.append(iternote)"
   ]
  },
  {
   "cell_type": "code",
   "execution_count": 15,
   "metadata": {},
   "outputs": [
    {
     "data": {
      "text/plain": [
       "[29,\n",
       " 78,\n",
       " 83,\n",
       " 76,\n",
       " 116,\n",
       " 36,\n",
       " 74,\n",
       " 28,\n",
       " 93,\n",
       " 110,\n",
       " 34,\n",
       " 106,\n",
       " 103,\n",
       " 115,\n",
       " 47,\n",
       " 54,\n",
       " 120,\n",
       " 29,\n",
       " 45,\n",
       " 23,\n",
       " 78,\n",
       " 78,\n",
       " 108,\n",
       " 104,\n",
       " 49,\n",
       " 23,\n",
       " 48,\n",
       " 86,\n",
       " 31,\n",
       " 104,\n",
       " 79,\n",
       " 40,\n",
       " 117,\n",
       " 29,\n",
       " 74,\n",
       " 24,\n",
       " 45,\n",
       " 48,\n",
       " 100,\n",
       " 70,\n",
       " 31,\n",
       " 99,\n",
       " 31,\n",
       " 47,\n",
       " 82,\n",
       " 65,\n",
       " 85,\n",
       " 112,\n",
       " 31,\n",
       " 98,\n",
       " 51,\n",
       " 113,\n",
       " 56,\n",
       " 62,\n",
       " 27,\n",
       " 68,\n",
       " 71,\n",
       " 116,\n",
       " 87,\n",
       " 60,\n",
       " 112,\n",
       " 47,\n",
       " 22,\n",
       " 114,\n",
       " 49,\n",
       " 74,\n",
       " 69,\n",
       " 116,\n",
       " 63,\n",
       " 63,\n",
       " 57,\n",
       " 28,\n",
       " 83,\n",
       " 75,\n",
       " 39,\n",
       " 40,\n",
       " 34,\n",
       " 69,\n",
       " 112,\n",
       " 40,\n",
       " 29,\n",
       " 23,\n",
       " 69,\n",
       " 92,\n",
       " 73,\n",
       " 70,\n",
       " 24,\n",
       " 110,\n",
       " 32,\n",
       " 97,\n",
       " 24,\n",
       " 108,\n",
       " 85,\n",
       " 34,\n",
       " 44,\n",
       " 93,\n",
       " 52,\n",
       " 98,\n",
       " 93,\n",
       " 21]"
      ]
     },
     "execution_count": 15,
     "metadata": {},
     "output_type": "execute_result"
    }
   ],
   "source": [
    "listofnotes"
   ]
  },
  {
   "cell_type": "code",
   "execution_count": 85,
   "metadata": {},
   "outputs": [],
   "source": [
    "FsharpMIXOL = [30, 32, 34, 35, 37, 39, 40,\n",
    "              42, 44, 46, 47, 49, 51, 52,\n",
    "              54, 56, 58, 59, 61, 63, 64,\n",
    "              66, 68, 70, 71, 73, 75, 76]\n",
    "\n",
    "\n",
    "FsharpMIXOL2 = [42, 44, 46, 47, 49, 51, 52,\n",
    "              54, 56, 58, 59, 61, 63, 64]\n",
    "\n",
    "\n",
    "DminorDorian = [38,40,41,43,45,47,48,\n",
    "               50,52,53,55,57,59,60]\n",
    "\n",
    "\n",
    "EminorAeolian = [40,42,43,45,47,48,50,\n",
    "                52,54,55,57,59,60,62]\n",
    "\n",
    "C2toC3 = []\n",
    "\n",
    "for i in range(36,49):\n",
    "    C2toC3.append(i)\n"
   ]
  },
  {
   "cell_type": "code",
   "execution_count": 86,
   "metadata": {},
   "outputs": [],
   "source": [
    "listofnotes = []\n",
    "iternote = 0\n",
    "\n",
    "for i in range(600):\n",
    "    iternote = random.choice(EminorAeolian)\n",
    "    listofnotes.append(iternote)"
   ]
  },
  {
   "cell_type": "code",
   "execution_count": 87,
   "metadata": {},
   "outputs": [],
   "source": [
    "degrees  = listofnotes  # MIDI note number\n",
    "track    = 0\n",
    "channel  = 0\n",
    "time     = 0    # In beats\n",
    "duration = .5    # In beats\n",
    "tempo    = 120   # In BPM\n",
    "volume   = 100  # 0-127, as per the MIDI standard\n",
    "\n",
    "MyMIDI = MIDIFile(1)  # One track, defaults to format 1 (tempo track is created\n",
    "                      # automatically)\n",
    "MyMIDI.addTempo(track, time, tempo)\n",
    "\n",
    "for i, pitch in enumerate(degrees):\n",
    "    MyMIDI.addNote(track, channel, pitch, time + i*((3/4)*2), duration, volume)\n",
    "\n",
    "with open(r\"/Users/michaelfelzan/Desktop/PY MIDI/randomthing600.mid\", \"wb\") as output_file:\n",
    "    MyMIDI.writeFile(output_file)"
   ]
  },
  {
   "cell_type": "code",
   "execution_count": null,
   "metadata": {},
   "outputs": [],
   "source": []
  },
  {
   "cell_type": "code",
   "execution_count": null,
   "metadata": {},
   "outputs": [],
   "source": []
  }
 ],
 "metadata": {
  "kernelspec": {
   "display_name": "Python 3",
   "language": "python",
   "name": "python3"
  },
  "language_info": {
   "codemirror_mode": {
    "name": "ipython",
    "version": 3
   },
   "file_extension": ".py",
   "mimetype": "text/x-python",
   "name": "python",
   "nbconvert_exporter": "python",
   "pygments_lexer": "ipython3",
   "version": "3.7.4"
  }
 },
 "nbformat": 4,
 "nbformat_minor": 2
}
