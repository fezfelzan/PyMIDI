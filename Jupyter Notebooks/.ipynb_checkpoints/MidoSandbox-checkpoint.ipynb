{
 "cells": [
  {
   "cell_type": "code",
   "execution_count": 2,
   "metadata": {},
   "outputs": [
    {
     "name": "stdout",
     "output_type": "stream",
     "text": [
      "Collecting mido\n",
      "\u001b[?25l  Downloading https://files.pythonhosted.org/packages/b5/6d/e18a5b59ff086e1cd61d7fbf943d86c5f593a4e68bfc60215ab74210b22b/mido-1.2.10-py2.py3-none-any.whl (51kB)\n",
      "\u001b[K     |████████████████████████████████| 51kB 384kB/s eta 0:00:01\n",
      "\u001b[?25hInstalling collected packages: mido\n",
      "Successfully installed mido-1.2.10\n",
      "Note: you may need to restart the kernel to use updated packages.\n"
     ]
    }
   ],
   "source": [
    "pip install mido"
   ]
  },
  {
   "cell_type": "code",
   "execution_count": 3,
   "metadata": {},
   "outputs": [],
   "source": [
    "import mido"
   ]
  },
  {
   "cell_type": "code",
   "execution_count": 4,
   "metadata": {},
   "outputs": [],
   "source": [
    "from mido import Message, MidiFile, MidiTrack"
   ]
  },
  {
   "cell_type": "markdown",
   "metadata": {},
   "source": [
    "#### \"Time\" = ticks... @ 120bpm, 120 ticks = 1 quarter note.\n",
    "#### Time is relative to the last message appended"
   ]
  },
  {
   "cell_type": "code",
   "execution_count": 15,
   "metadata": {},
   "outputs": [],
   "source": [
    "mid = MidiFile()\n",
    "track = MidiTrack()\n",
    "mid.tracks.append(track)\n",
    "\n",
    "track.append(Message('program_change', program=1, time=0))\n",
    "track.append(Message('note_on', note=70, velocity=90, time=0))\n",
    "track.append(Message('note_off', note=70, velocity=127, time=60))\n",
    "track.append(Message('note_on', note=70, velocity=90, time=60))\n",
    "track.append(Message('note_off', note=70, velocity=127, time=60))\n",
    "\n",
    "mid.save('test11.mid')"
   ]
  },
  {
   "cell_type": "code",
   "execution_count": 43,
   "metadata": {},
   "outputs": [],
   "source": [
    "def ProgramSet(track, number, timee):\n",
    "    track.append(Message('program_change', program=number, time=timee))\n",
    "\n",
    "def CreateFirstNote(track, notenumb, veloc, endtime):\n",
    "    track.append(Message('note_on', note=notenumb, velocity=veloc, time=0))\n",
    "    track.append(Message('note_off', note=notenumb, velocity=127, time=endtime))\n",
    "\n",
    "def DupeFirstNote(track, notenumb, veloc, numdupes):\n",
    "    for i in range(numdupes):\n",
    "        track.append(Message('note_on', note=notenumb, velocity=veloc, time=60))\n",
    "        track.append(Message('note_off', note=notenumb, velocity=127, time=60))"
   ]
  },
  {
   "cell_type": "code",
   "execution_count": 44,
   "metadata": {},
   "outputs": [],
   "source": [
    "fezmid2 = MidiFile()\n",
    "feztrack2 = MidiTrack()\n",
    "fezmid2.tracks.append(feztrack2)\n",
    "\n",
    "ProgramSet(feztrack2, 2, 0)\n",
    "CreateFirstNote(feztrack2, 66, 90, 60)\n",
    "DupeFirstNote(feztrack2, 66, 90, 192)\n",
    "\n",
    "fezmid2.save('dupesmidi2.mid')"
   ]
  }
 ],
 "metadata": {
  "kernelspec": {
   "display_name": "Python 3",
   "language": "python",
   "name": "python3"
  },
  "language_info": {
   "codemirror_mode": {
    "name": "ipython",
    "version": 3
   },
   "file_extension": ".py",
   "mimetype": "text/x-python",
   "name": "python",
   "nbconvert_exporter": "python",
   "pygments_lexer": "ipython3",
   "version": "3.7.4"
  }
 },
 "nbformat": 4,
 "nbformat_minor": 2
}
